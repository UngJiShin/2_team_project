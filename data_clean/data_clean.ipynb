{
 "cells": [
  {
   "cell_type": "markdown",
   "id": "d5219793",
   "metadata": {},
   "source": [
    "이야기하셨던 세종 데이터 관련해서 여러 방면으로 병합했어요\n",
    "상황에 맞게 사용하면 될듯합니다.\n",
    "\n",
    "1. 세종 제외하고 병합 (가장 일반적인듯)\n",
    "-  기준 연도/월: 예를 들어 2010년 1월 ~ 2022년 12월\n",
    "- 지역: 세종을 제외한 모든 시도 (서울, 부산 등)\n",
    "- 장점: 모든 데이터가 빈틈없이 존재 → 모델 안정적\n",
    "- 단점: 세종 데이터 사용 불가\n",
    "\n",
    "2. 세종 포함하나, 없는 연도는 NaN 허용\n",
    "- 세종은 2015년 이전은 결측치(NaN) 로 채움\n",
    "- 전체는 2010~2022, 세종은 2015~2022만 유효\n",
    "- 장점: 세종 데이터 활용 가능\n",
    "- 단점: 모델 학습 시 NaN 처리 필요 (drop, impute 등)\n",
    "-> 세종도 꼭 포함해야 하거나, NaN 처리 전략을 도입할 수 있을 때 사용\n",
    "\n",
    "3. 2015~2022로 통일하고 세종 포함\n",
    "- 세종 기준에 맞춰 모든 시도 데이터도 2015~2022로 잘라냄\n",
    "- 장점: 전 시도 동일 기간 → 깔끔\n",
    "- 단점: 다른 지역의 유용한 과거 정보(2010~2014) 버려짐\n",
    "-> 지역 간 비교가 핵심인 분석일 때 유리"
   ]
  },
  {
   "cell_type": "code",
   "execution_count": 114,
   "id": "ff5b2c3e",
   "metadata": {},
   "outputs": [],
   "source": [
    "# 데이터 불러오기\n",
    "import pandas as pd\n",
    "\n",
    "# 데이터 불러오기 (예시: 파일명/시트명에 맞게 수정)\n",
    "power = pd.read_excel('filtered_power_data.xlsx')\n",
    "prod_index = pd.read_excel('trimmed_prod_index_data.xlsx')\n",
    "temp = pd.read_excel('trimmed_temperature_data.xlsx')\n",
    "precip = pd.read_excel('trimmed_precipitation_data.xlsx')\n",
    "export_amount = pd.read_excel('trimmed_export_amount_data.xlsx')\n",
    "util_rate = pd.read_excel('year_month_util_rate.xlsx')"
   ]
  },
  {
   "cell_type": "code",
   "execution_count": 115,
   "id": "b9100e8d",
   "metadata": {},
   "outputs": [
    {
     "name": "stdout",
     "output_type": "stream",
     "text": [
      "DataFrame 0:\n",
      "Index(['month', 'region', 'division', 'client_num', 'power_kwh', 'price',\n",
      "       'mean_price_kwh'],\n",
      "      dtype='object')\n",
      "\n",
      "DataFrame 1:\n",
      "Index(['region', 'month', 'prod_index'], dtype='object')\n",
      "\n",
      "DataFrame 2:\n",
      "Index(['month', 'region', 'temp_avg'], dtype='object')\n",
      "\n",
      "DataFrame 3:\n",
      "Index(['month', 'region', 'precipitation'], dtype='object')\n",
      "\n",
      "DataFrame 4:\n",
      "Index(['month', 'region', 'export_amount'], dtype='object')\n",
      "\n",
      "DataFrame 5:\n",
      "Index(['month', 'util_rate', 'prod_cab_index', 'util_rate_index(origin)',\n",
      "       'util_rate_index(seasonal)'],\n",
      "      dtype='object')\n",
      "\n"
     ]
    }
   ],
   "source": [
    "# 전체 컬럼 확인\n",
    "dfs = [power, prod_index, temp, precip, export_amount, util_rate]\n",
    "for i, df in enumerate(dfs):\n",
    "    print(f\"DataFrame {i}:\")\n",
    "    print(df.columns)\n",
    "    print()"
   ]
  },
  {
   "cell_type": "markdown",
   "id": "afa6d2ce",
   "metadata": {},
   "source": [
    "### 1. 세종 제외, 전체기간: 전국 장기/안정적 예측용"
   ]
  },
  {
   "cell_type": "code",
   "execution_count": 116,
   "id": "e75f0f34",
   "metadata": {},
   "outputs": [],
   "source": [
    "# 세종시 제외, 기간 통일(2010-01 ~ 2022-12)\n",
    "dfs = [power, prod_index, temp, precip, export_amount]"
   ]
  },
  {
   "cell_type": "code",
   "execution_count": 117,
   "id": "4c1d726c",
   "metadata": {},
   "outputs": [],
   "source": [
    "# 모든 주요 지표 데이터프레임에 자료형 통일\n",
    "for i in range(len(dfs)):\n",
    "    # region이 있다면 str로 변환 (혹시 nan이 있으면 'nan'으로 들어가서 병합시 문제가 됨)\n",
    "    if 'region' in dfs[i].columns:\n",
    "        dfs[i]['region'] = dfs[i]['region'].astype(str)\n",
    "    # month를 무조건 datetime으로 변환\n",
    "    dfs[i]['month'] = pd.to_datetime(dfs[i]['month'])"
   ]
  },
  {
   "cell_type": "code",
   "execution_count": 118,
   "id": "c7ec4f9f",
   "metadata": {},
   "outputs": [],
   "source": [
    "# power 데이터도 자료형 강제 통일(특히 'region')\n",
    "power['region'] = power['region'].astype(str)\n",
    "power['month'] = pd.to_datetime(power['month'])\n",
    "\n",
    "# 산업용 데이터\n",
    "power_industry = power[power['division'] == '산업용'][['month', 'region', 'power_kwh']]\n",
    "power_industry = power_industry.rename(columns={'power_kwh': 'power_kwh_industry'})\n",
    "# 합계 데이터\n",
    "power_total = power[power['division'] == '합계'][['month', 'region', 'power_kwh']]\n",
    "power_total = power_total.rename(columns={'power_kwh': 'power_kwh_total'})\n",
    "\n",
    "# month, region 기준으로 병합 (outer join로 하면 어느 한쪽만 있는 월/지역도 남음)\n",
    "power_merged = pd.merge(power_industry, power_total, on=['month', 'region'], how='outer')\n",
    "\n",
    "dfs[0] = power_merged"
   ]
  },
  {
   "cell_type": "code",
   "execution_count": 119,
   "id": "6146eba6",
   "metadata": {},
   "outputs": [],
   "source": [
    "# 주요 지표끼리 month, region 기준 inner join (공통 기간/지역만 남김)\n",
    "from functools import reduce\n",
    "df_main = reduce(lambda left, right: pd.merge(left, right, on=['month','region'], how='inner'), dfs)"
   ]
  },
  {
   "cell_type": "code",
   "execution_count": 120,
   "id": "0f71fbeb",
   "metadata": {},
   "outputs": [],
   "source": [
    "# 전국 단위 보조지표(예: util_rate)는 월 기준으로만 left join\n",
    "util_rate = pd.read_excel('year_month_util_rate.xlsx')\n",
    "util_rate['month'] = pd.to_datetime(util_rate['month'])\n",
    "util_rate_sub = util_rate[['month', 'util_rate']]\n",
    "df_final = pd.merge(df_main, util_rate_sub, on='month', how='left')"
   ]
  },
  {
   "cell_type": "code",
   "execution_count": 139,
   "id": "508fb753",
   "metadata": {},
   "outputs": [
    {
     "name": "stdout",
     "output_type": "stream",
     "text": [
      "       month region power_kwh_industry power_kwh_total  prod_index  temp_avg  \\\n",
      "0 2002-01-01     강원       412,125,715     980,802,845       62.553      -2.4   \n",
      "1 2002-01-01     경기     2,348,126,225   4,788,402,685       21.171      -0.2   \n",
      "2 2002-01-01     경남     1,054,021,417   1,771,563,128       72.644       3.0   \n",
      "3 2002-01-01     경북     1,785,172,159   2,438,066,554       81.953       1.2   \n",
      "4 2002-01-01     광주       138,516,047     440,809,953       41.767       2.9   \n",
      "\n",
      "   precipitation  export_amount  util_rate  \n",
      "0           55.6          22623       75.6  \n",
      "1           47.6        2217505       75.6  \n",
      "2           55.8        1341779       75.6  \n",
      "3           76.6        1310165       75.6  \n",
      "4           95.7         250587       75.6  \n"
     ]
    }
   ],
   "source": [
    "# 결과 확인\n",
    "print(df_final.head())"
   ]
  },
  {
   "cell_type": "code",
   "execution_count": 123,
   "id": "ad46f9f1",
   "metadata": {},
   "outputs": [],
   "source": [
    "# 파일 저장\n",
    "df_final.to_csv('병합파일/option1_merged_exclude_sejong.csv', index=False)"
   ]
  },
  {
   "cell_type": "code",
   "execution_count": 124,
   "id": "f6d4cc19",
   "metadata": {},
   "outputs": [
    {
     "name": "stdout",
     "output_type": "stream",
     "text": [
      "        month region power_kwh_industry power_kwh_total  prod_index  temp_avg  \\\n",
      "0  2002-01-01     강원       412,125,715     980,802,845       62.553      -2.4   \n",
      "1  2002-01-01     경기     2,348,126,225   4,788,402,685       21.171      -0.2   \n",
      "2  2002-01-01     경남     1,054,021,417   1,771,563,128       72.644       3.0   \n",
      "3  2002-01-01     경북     1,785,172,159   2,438,066,554       81.953       1.2   \n",
      "4  2002-01-01     광주       138,516,047     440,809,953       41.767       2.9   \n",
      "\n",
      "   precipitation  export_amount  util_rate  \n",
      "0           55.6          22623       75.6  \n",
      "1           47.6        2217505       75.6  \n",
      "2           55.8        1341779       75.6  \n",
      "3           76.6        1310165       75.6  \n",
      "4           95.7         250587       75.6  \n",
      "Index(['month', 'region', 'power_kwh_industry', 'power_kwh_total',\n",
      "       'prod_index', 'temp_avg', 'precipitation', 'export_amount',\n",
      "       'util_rate'],\n",
      "      dtype='object')\n",
      "['강원' '경기' '경남' '경북' '광주' '대구' '대전' '부산' '서울' '울산' '인천' '전남' '전북' '제주'\n",
      " '충남' '충북']\n",
      "month                 0\n",
      "region                0\n",
      "power_kwh_industry    0\n",
      "power_kwh_total       0\n",
      "prod_index            0\n",
      "temp_avg              0\n",
      "precipitation         0\n",
      "export_amount         0\n",
      "util_rate             0\n",
      "dtype: int64\n"
     ]
    }
   ],
   "source": [
    "# 파일 저장\n",
    "import pandas as pd\n",
    "\n",
    "df = pd.read_csv('병합파일/option1_merged_exclude_sejong.csv')\n",
    "print(df.head())\n",
    "print(df.columns)\n",
    "print(df['region'].unique())  # 세종 없는지 확인\n",
    "print(df.isnull().sum())      # 결측치 확인"
   ]
  },
  {
   "cell_type": "markdown",
   "id": "2de8ae02",
   "metadata": {},
   "source": [
    "---"
   ]
  },
  {
   "cell_type": "markdown",
   "id": "80a9ade0",
   "metadata": {},
   "source": [
    "### 2. 세종 포함하되, 없는 연도는 NaN 허용 + '전국' 제외 버전\n",
    "- 전체: 2010~2022, 세종: 2015~2022만 유효\n",
    "- 장점: 세종 데이터도 사용, 단점: 결측치(NaN) 존재"
   ]
  },
  {
   "cell_type": "code",
   "execution_count": 140,
   "id": "dbd870d3",
   "metadata": {},
   "outputs": [],
   "source": [
    "import pandas as pd\n",
    "from functools import reduce\n",
    "\n",
    "# 데이터 불러오기 (파일명/경로 필요시 수정)\n",
    "power = pd.read_excel('filtered_power_data.xlsx')\n",
    "prod_index = pd.read_excel('trimmed_prod_index_data.xlsx')\n",
    "temp = pd.read_excel('trimmed_temperature_data.xlsx')\n",
    "precip = pd.read_excel('trimmed_precipitation_data.xlsx')\n",
    "export_amount = pd.read_excel('trimmed_export_amount_data.xlsx')\n",
    "util_rate = pd.read_excel('year_month_util_rate.xlsx')"
   ]
  },
  {
   "cell_type": "code",
   "execution_count": 141,
   "id": "68088863",
   "metadata": {},
   "outputs": [],
   "source": [
    "# [공통 전처리] month datetime, region 문자열\n",
    "dfs = [power, prod_index, temp, precip, export_amount]\n",
    "for i in range(len(dfs)):\n",
    "    dfs[i]['month'] = pd.to_datetime(dfs[i]['month'])\n",
    "    dfs[i]['region'] = dfs[i]['region'].astype(str)"
   ]
  },
  {
   "cell_type": "code",
   "execution_count": null,
   "id": "af268a40",
   "metadata": {},
   "outputs": [],
   "source": [
    "# 산업용 데이터\n",
    "power_ind = power[power['division']=='산업용'][['month','region','power_kwh']]\n",
    "power_ind = power_ind.rename(columns={'power_kwh':'power_kwh_industry'})\n",
    "\n",
    "# 합계 데이터\n",
    "power_total = power[power['division']=='합계'][['month','region','power_kwh']]\n",
    "power_total = power_total.rename(columns={'power_kwh':'power_kwh_total'})\n",
    "\n",
    "#  month, region 기준으로 합치기 (둘 다 컬럼으로 남김)\n",
    "power_merge = pd.merge(power_ind, power_total, on=['month','region'], how='outer')"
   ]
  },
  {
   "cell_type": "code",
   "execution_count": 143,
   "id": "158af6f7",
   "metadata": {},
   "outputs": [],
   "source": [
    "dfs[0] = power_merge"
   ]
  },
  {
   "cell_type": "code",
   "execution_count": 144,
   "id": "60278a91",
   "metadata": {},
   "outputs": [],
   "source": [
    "# 기준 month/region 조합 전체를 먼저 생성 (2010~2022, 모든 시도+세종 포함)\n",
    "all_months = pd.date_range('2010-01-01', '2022-12-01', freq='MS')\n",
    "all_regions = sorted(set().union(*[df['region'].unique() for df in dfs]))"
   ]
  },
  {
   "cell_type": "code",
   "execution_count": 145,
   "id": "83d5e8ff",
   "metadata": {},
   "outputs": [],
   "source": [
    "# '전국' 있으면 리스트에서 제외\n",
    "all_regions = [r for r in all_regions if r != '전국']\n",
    "full_index = pd.MultiIndex.from_product([all_months, all_regions], names=['month','region'])\n",
    "df_base = pd.DataFrame(index=full_index).reset_index()"
   ]
  },
  {
   "cell_type": "code",
   "execution_count": 146,
   "id": "ecbef24f",
   "metadata": {},
   "outputs": [],
   "source": [
    "#  각 데이터 left join으로 결측치 NaN 허용하며 병합\n",
    "df_merged = df_base.copy()\n",
    "for df in dfs:\n",
    "    # 필요한 컬럼만 병합 (month, region, 변수)\n",
    "    value_cols = [col for col in df.columns if col not in ['month','region']]\n",
    "    df_merged = pd.merge(df_merged, df[['month','region'] + value_cols], on=['month','region'], how='left')"
   ]
  },
  {
   "cell_type": "code",
   "execution_count": 147,
   "id": "47b99276",
   "metadata": {},
   "outputs": [],
   "source": [
    "# 전국 단위 보조지표는 month 기준으로만 left join\n",
    "util_rate['month'] = pd.to_datetime(util_rate['month'])\n",
    "util_rate_sub = util_rate[['month', 'util_rate']]\n",
    "df_merged = pd.merge(df_merged, util_rate_sub, on='month', how='left')\n"
   ]
  },
  {
   "cell_type": "code",
   "execution_count": 149,
   "id": "2e8a15e2",
   "metadata": {},
   "outputs": [
    {
     "name": "stdout",
     "output_type": "stream",
     "text": [
      "        month region power_kwh_industry power_kwh_total  prod_index  temp_avg  \\\n",
      "0  2010-01-01     강원       463,950,773   1,480,180,516       76.306      -5.9   \n",
      "1  2010-01-01     경기     4,018,117,308   8,725,480,264       49.870      -4.5   \n",
      "2  2010-01-01     경남     1,594,246,998   2,922,774,089      118.283       0.3   \n",
      "3  2010-01-01     경북     2,544,221,899   3,717,347,647      126.896      -1.4   \n",
      "4  2010-01-01     광주       228,905,072     712,923,474       75.489       0.5   \n",
      "5  2010-01-01     대구       535,847,540   1,331,471,928       92.576       0.0   \n",
      "6  2010-01-01     대전       256,888,382     826,372,244       78.518      -2.7   \n",
      "7  2010-01-01     부산       703,567,523   1,848,493,050      101.268       3.0   \n",
      "8  2010-01-01     서울       507,859,467   4,398,185,062      113.099      -4.5   \n",
      "9  2010-01-01     세종                NaN             NaN         NaN       NaN   \n",
      "10 2010-01-01     울산     1,899,248,453   2,259,609,470      100.031       1.5   \n",
      "11 2010-01-01     인천     1,119,519,137   2,016,430,191       85.238      -3.2   \n",
      "12 2010-01-01     전남     1,402,652,316   2,233,685,360       91.579       1.2   \n",
      "13 2010-01-01     전북       871,218,726   1,707,366,334      113.336      -0.9   \n",
      "14 2010-01-01     제주        35,996,407     325,800,159      107.991       6.4   \n",
      "\n",
      "    precipitation  export_amount  util_rate  \n",
      "0            33.9        82824.0       79.7  \n",
      "1            25.4      5975813.0       79.7  \n",
      "2            23.9      2851941.0       79.7  \n",
      "3            17.2      3221839.0       79.7  \n",
      "4            37.1       799712.0       79.7  \n",
      "5            15.2       352996.0       79.7  \n",
      "6            46.4       245949.0       79.7  \n",
      "7            37.6       765854.0       79.7  \n",
      "8            29.3      3086619.0       79.7  \n",
      "9             NaN            NaN       79.7  \n",
      "10           17.0      4742975.0       79.7  \n",
      "11           29.2      1396432.0       79.7  \n",
      "12           35.2      2225979.0       79.7  \n",
      "13           39.0       632429.0       79.7  \n",
      "14           49.4         9877.0       79.7  \n"
     ]
    }
   ],
   "source": [
    "# 결과 확인 및 파일 저장\n",
    "print(df_merged.head(15))  # 세종 2010년 등 결측 확인\n",
    "df_merged.to_csv('병합파일/option2_merged_include_sejong_nan.csv', index=False)"
   ]
  },
  {
   "cell_type": "code",
   "execution_count": 150,
   "id": "1cc5b850",
   "metadata": {},
   "outputs": [
    {
     "name": "stdout",
     "output_type": "stream",
     "text": [
      "        month region power_kwh_industry power_kwh_total  prod_index  temp_avg  \\\n",
      "0  2010-01-01     강원       463,950,773   1,480,180,516       76.306      -5.9   \n",
      "1  2010-01-01     경기     4,018,117,308   8,725,480,264       49.870      -4.5   \n",
      "2  2010-01-01     경남     1,594,246,998   2,922,774,089      118.283       0.3   \n",
      "3  2010-01-01     경북     2,544,221,899   3,717,347,647      126.896      -1.4   \n",
      "4  2010-01-01     광주       228,905,072     712,923,474       75.489       0.5   \n",
      "5  2010-01-01     대구       535,847,540   1,331,471,928       92.576       0.0   \n",
      "6  2010-01-01     대전       256,888,382     826,372,244       78.518      -2.7   \n",
      "7  2010-01-01     부산       703,567,523   1,848,493,050      101.268       3.0   \n",
      "8  2010-01-01     서울       507,859,467   4,398,185,062      113.099      -4.5   \n",
      "9  2010-01-01     세종                NaN             NaN         NaN       NaN   \n",
      "10 2010-01-01     울산     1,899,248,453   2,259,609,470      100.031       1.5   \n",
      "11 2010-01-01     인천     1,119,519,137   2,016,430,191       85.238      -3.2   \n",
      "12 2010-01-01     전남     1,402,652,316   2,233,685,360       91.579       1.2   \n",
      "13 2010-01-01     전북       871,218,726   1,707,366,334      113.336      -0.9   \n",
      "14 2010-01-01     제주        35,996,407     325,800,159      107.991       6.4   \n",
      "\n",
      "    precipitation  export_amount  util_rate  \n",
      "0            33.9        82824.0       79.7  \n",
      "1            25.4      5975813.0       79.7  \n",
      "2            23.9      2851941.0       79.7  \n",
      "3            17.2      3221839.0       79.7  \n",
      "4            37.1       799712.0       79.7  \n",
      "5            15.2       352996.0       79.7  \n",
      "6            46.4       245949.0       79.7  \n",
      "7            37.6       765854.0       79.7  \n",
      "8            29.3      3086619.0       79.7  \n",
      "9             NaN            NaN       79.7  \n",
      "10           17.0      4742975.0       79.7  \n",
      "11           29.2      1396432.0       79.7  \n",
      "12           35.2      2225979.0       79.7  \n",
      "13           39.0       632429.0       79.7  \n",
      "14           49.4         9877.0       79.7  \n",
      "         month region power_kwh_industry power_kwh_total  prod_index  \\\n",
      "9   2010-01-01     세종                NaN             NaN         NaN   \n",
      "26  2010-02-01     세종                NaN             NaN         NaN   \n",
      "43  2010-03-01     세종                NaN             NaN         NaN   \n",
      "60  2010-04-01     세종                NaN             NaN         NaN   \n",
      "77  2010-05-01     세종                NaN             NaN         NaN   \n",
      "94  2010-06-01     세종                NaN             NaN         NaN   \n",
      "111 2010-07-01     세종                NaN             NaN         NaN   \n",
      "128 2010-08-01     세종                NaN             NaN         NaN   \n",
      "145 2010-09-01     세종                NaN             NaN         NaN   \n",
      "162 2010-10-01     세종                NaN             NaN         NaN   \n",
      "\n",
      "     temp_avg  precipitation  export_amount  util_rate  \n",
      "9         NaN            NaN            NaN       79.7  \n",
      "26        NaN            NaN            NaN       80.0  \n",
      "43        NaN            NaN            NaN       80.8  \n",
      "60        NaN            NaN            NaN       81.0  \n",
      "77        NaN            NaN            NaN       80.6  \n",
      "94        NaN            NaN            NaN       80.7  \n",
      "111       NaN            NaN            NaN       80.9  \n",
      "128       NaN            NaN            NaN       78.9  \n",
      "145       NaN            NaN            NaN       79.2  \n",
      "162       NaN            NaN            NaN       80.4  \n",
      "month                   0\n",
      "region                  0\n",
      "power_kwh_industry     33\n",
      "power_kwh_total        33\n",
      "prod_index            156\n",
      "temp_avg              113\n",
      "precipitation         112\n",
      "export_amount          24\n",
      "util_rate               0\n",
      "dtype: int64\n",
      "['강원' '경기' '경남' '경북' '광주' '대구' '대전' '부산' '서울' '세종' '울산' '인천' '전남' '전북'\n",
      " '제주' '충남' '충북']\n"
     ]
    }
   ],
   "source": [
    "# 8. 결과 샘플/확인\n",
    "print(df_merged.head(15))                # 일부 샘플\n",
    "print(df_merged[df_merged['region']=='세종'].head(10)) # 세종 데이터 샘플\n",
    "print(df_merged.isnull().sum())          # 결측치 개수 확인\n",
    "print(df_merged['region'].unique())      # 모든 시도 포함됐는지 확인"
   ]
  },
  {
   "cell_type": "code",
   "execution_count": 137,
   "id": "b8c29f42",
   "metadata": {},
   "outputs": [
    {
     "name": "stdout",
     "output_type": "stream",
     "text": [
      "          month region power_kwh_industry power_kwh_total  prod_index  \\\n",
      "9    2010-01-01     세종                NaN             NaN         NaN   \n",
      "27   2010-02-01     세종                NaN             NaN         NaN   \n",
      "45   2010-03-01     세종                NaN             NaN         NaN   \n",
      "63   2010-04-01     세종                NaN             NaN         NaN   \n",
      "81   2010-05-01     세종                NaN             NaN         NaN   \n",
      "99   2010-06-01     세종                NaN             NaN         NaN   \n",
      "117  2010-07-01     세종                NaN             NaN         NaN   \n",
      "135  2010-08-01     세종                NaN             NaN         NaN   \n",
      "153  2010-09-01     세종                NaN             NaN         NaN   \n",
      "171  2010-10-01     세종                NaN             NaN         NaN   \n",
      "189  2010-11-01     세종                NaN             NaN         NaN   \n",
      "207  2010-12-01     세종                NaN             NaN         NaN   \n",
      "225  2011-01-01     세종                NaN             NaN         NaN   \n",
      "243  2011-02-01     세종                NaN             NaN         NaN   \n",
      "261  2011-03-01     세종                NaN             NaN         NaN   \n",
      "279  2011-04-01     세종                NaN             NaN         NaN   \n",
      "297  2011-05-01     세종                NaN             NaN         NaN   \n",
      "315  2011-06-01     세종                NaN             NaN         NaN   \n",
      "333  2011-07-01     세종                NaN             NaN         NaN   \n",
      "351  2011-08-01     세종                NaN             NaN         NaN   \n",
      "369  2011-09-01     세종                NaN             NaN         NaN   \n",
      "387  2011-10-01     세종                NaN             NaN         NaN   \n",
      "405  2011-11-01     세종                NaN             NaN         NaN   \n",
      "423  2011-12-01     세종                NaN             NaN         NaN   \n",
      "441  2012-01-01     세종                NaN             NaN         NaN   \n",
      "459  2012-02-01     세종                NaN             NaN         NaN   \n",
      "477  2012-03-01     세종                NaN             NaN         NaN   \n",
      "495  2012-04-01     세종                NaN             NaN         NaN   \n",
      "513  2012-05-01     세종                NaN             NaN         NaN   \n",
      "531  2012-06-01     세종                NaN             NaN         NaN   \n",
      "549  2012-07-01     세종                NaN             NaN         NaN   \n",
      "567  2012-08-01     세종                NaN             NaN         NaN   \n",
      "585  2012-09-01     세종                NaN             NaN         NaN   \n",
      "603  2012-10-01     세종       129,590,710     170,445,906          NaN   \n",
      "621  2012-11-01     세종       141,318,999     197,571,400          NaN   \n",
      "639  2012-12-01     세종       142,990,770     210,592,812          NaN   \n",
      "657  2013-01-01     세종       136,443,339     215,973,773          NaN   \n",
      "675  2013-02-01     세종       122,139,951     198,312,461          NaN   \n",
      "693  2013-03-01     세종       130,451,680     193,991,112          NaN   \n",
      "711  2013-04-01     세종       132,372,055     193,422,257          NaN   \n",
      "729  2013-05-01     세종       132,051,196     182,641,642          NaN   \n",
      "747  2013-06-01     세종       137,820,453     184,293,706          NaN   \n",
      "765  2013-07-01     세종       142,396,665     189,804,738          NaN   \n",
      "783  2013-08-01     세종       148,029,349     201,941,743          NaN   \n",
      "801  2013-09-01     세종       136,443,787     187,498,596          NaN   \n",
      "819  2013-10-01     세종       140,404,868     185,655,209          NaN   \n",
      "837  2013-11-01     세종       138,528,461     197,761,705          NaN   \n",
      "855  2013-12-01     세종       142,610,768     214,229,835          NaN   \n",
      "873  2014-01-01     세종       138,511,547     219,354,361          NaN   \n",
      "891  2014-02-01     세종       123,145,833     201,659,488          NaN   \n",
      "909  2014-03-01     세종       140,742,883     208,030,115          NaN   \n",
      "927  2014-04-01     세종       138,453,787     200,309,963          NaN   \n",
      "945  2014-05-01     세종       137,646,215     189,967,922          NaN   \n",
      "963  2014-06-01     세종       138,734,030     191,638,551          NaN   \n",
      "981  2014-07-01     세종       148,940,765     203,944,572          NaN   \n",
      "999  2014-08-01     세종       136,125,533     196,298,672          NaN   \n",
      "1017 2014-09-01     세종       132,776,213     190,143,083          NaN   \n",
      "1035 2014-10-01     세종       142,189,172     197,354,074          NaN   \n",
      "1053 2014-11-01     세종       139,893,210     210,214,674          NaN   \n",
      "1071 2014-12-01     세종       144,351,228     228,116,450          NaN   \n",
      "\n",
      "      temp_avg  precipitation  export_amount  util_rate_x  util_rate_y  \n",
      "9          NaN            NaN            NaN         79.7         79.7  \n",
      "27         NaN            NaN            NaN         80.0         80.0  \n",
      "45         NaN            NaN            NaN         80.8         80.8  \n",
      "63         NaN            NaN            NaN         81.0         81.0  \n",
      "81         NaN            NaN            NaN         80.6         80.6  \n",
      "99         NaN            NaN            NaN         80.7         80.7  \n",
      "117        NaN            NaN            NaN         80.9         80.9  \n",
      "135        NaN            NaN            NaN         78.9         78.9  \n",
      "153        NaN            NaN            NaN         79.2         79.2  \n",
      "171        NaN            NaN            NaN         80.4         80.4  \n",
      "189        NaN            NaN            NaN         80.6         80.6  \n",
      "207        NaN            NaN            NaN         82.4         82.4  \n",
      "225        NaN            NaN            NaN         84.0         84.0  \n",
      "243        NaN            NaN            NaN         81.0         81.0  \n",
      "261        NaN            NaN            NaN         82.2         82.2  \n",
      "279        NaN            NaN            NaN         80.6         80.6  \n",
      "297        NaN            NaN            NaN         80.6         80.6  \n",
      "315        NaN            NaN            NaN         81.5         81.5  \n",
      "333        NaN            NaN            NaN         80.4         80.4  \n",
      "351        NaN            NaN            NaN         79.1         79.1  \n",
      "369        NaN            NaN            NaN         79.7         79.7  \n",
      "387        NaN            NaN            NaN         80.8         80.8  \n",
      "405        NaN            NaN            NaN         79.9         79.9  \n",
      "423        NaN            NaN            NaN         77.9         77.9  \n",
      "441        NaN            NaN            0.0         79.8         79.8  \n",
      "459        NaN            NaN            0.0         82.8         82.8  \n",
      "477        NaN            NaN            0.0         80.0         80.0  \n",
      "495        NaN            NaN            0.0         80.4         80.4  \n",
      "513        NaN            NaN            0.0         80.2         80.2  \n",
      "531        NaN            NaN            0.0         79.0         79.0  \n",
      "549        NaN            NaN        35096.0         77.6         77.6  \n",
      "567        NaN            NaN        66251.0         73.7         73.7  \n",
      "585        NaN            NaN       101186.0         76.1         76.1  \n",
      "603        NaN            NaN       160011.0         78.0         78.0  \n",
      "621        NaN            NaN       226615.0         78.6         78.6  \n",
      "639        NaN            NaN       279006.0         78.2         78.2  \n",
      "657        NaN            NaN        79412.0         80.9         80.9  \n",
      "675        NaN            NaN       145803.0         77.6         77.6  \n",
      "693        NaN            NaN       206345.0         76.9         76.9  \n",
      "711        NaN            NaN       268094.0         77.1         77.1  \n",
      "729        NaN            NaN       341057.0         76.4         76.4  \n",
      "747        NaN            NaN       414247.0         76.4         76.4  \n",
      "765        NaN            NaN       501995.0         74.2         74.2  \n",
      "783        NaN            NaN       588322.0         75.6         75.6  \n",
      "801        NaN            NaN       666668.0         73.5         73.5  \n",
      "819        NaN            NaN       738890.0         76.8         76.8  \n",
      "837        NaN            NaN       817830.0         76.7         76.7  \n",
      "855        NaN            NaN       903653.0         77.3         77.3  \n",
      "873        NaN            NaN        69955.0         78.7         78.7  \n",
      "891        NaN            NaN       139059.0         77.7         77.7  \n",
      "909        NaN            NaN       217801.0         78.5         78.5  \n",
      "927        NaN            NaN       301309.0         78.6         78.6  \n",
      "945        NaN            NaN       375626.0         74.9         74.9  \n",
      "963        NaN            NaN       462680.0         76.7         76.7  \n",
      "981        NaN            NaN       555460.0         77.4         77.4  \n",
      "999        NaN            NaN       636687.0         73.6         73.6  \n",
      "1017       NaN            NaN       728929.0         73.8         73.8  \n",
      "1035       NaN            NaN       826071.0         73.9         73.9  \n",
      "1053       NaN            NaN       924141.0         74.7         74.7  \n",
      "1071       NaN            NaN      1020318.0         76.3         76.3  \n",
      "          month region power_kwh_industry power_kwh_total  prod_index  \\\n",
      "1089 2015-01-01     세종       143,110,722     238,757,732          NaN   \n",
      "1107 2015-02-01     세종       131,416,192     222,785,859          NaN   \n",
      "1125 2015-03-01     세종       141,860,066     222,292,106          NaN   \n",
      "1143 2015-04-01     세종       145,314,564     222,823,630          NaN   \n",
      "1161 2015-05-01     세종       135,206,346     201,272,061          NaN   \n",
      "\n",
      "      temp_avg  precipitation  export_amount  util_rate_x  util_rate_y  \n",
      "1089       NaN            NaN        92744.0         75.0         75.0  \n",
      "1107       NaN            NaN       166955.0         76.0         76.0  \n",
      "1125       NaN            NaN       255994.0         74.2         74.2  \n",
      "1143       NaN            NaN       339130.0         74.7         74.7  \n",
      "1161       NaN            NaN       403119.0         72.6         72.6  \n",
      "month                 0.000000\n",
      "region                0.000000\n",
      "power_kwh_industry    0.067308\n",
      "power_kwh_total       0.067308\n",
      "prod_index            0.055556\n",
      "temp_avg              0.095798\n",
      "precipitation         0.095442\n",
      "export_amount         0.064103\n",
      "util_rate_x           0.000000\n",
      "util_rate_y           0.000000\n",
      "dtype: float64\n"
     ]
    }
   ],
   "source": [
    "# 세종시 2010~2015년 실제 데이터 샘플 (대부분 NaN이어야 정상)\n",
    "print(df_merged[(df_merged['region']=='세종') & (df_merged['month']<'2015-01-01')])\n",
    "\n",
    "# 세종시 2015년 이후 (값이 차있는지)\n",
    "print(df_merged[(df_merged['region']=='세종') & (df_merged['month']>='2015-01-01')].head())\n",
    "\n",
    "# 결측치 비율 간단 체크\n",
    "print(df_merged.isnull().mean())"
   ]
  },
  {
   "cell_type": "markdown",
   "id": "325dc9e0",
   "metadata": {},
   "source": [
    "[설명]\n",
    "- 세종시 포함, 전체 기간(2010~2022) 데이터 틀 유지, 없는 값은 NaN\n",
    "- 나중에 목적에 따라 결측치 처리(평균 대체, 보간 등) 필요할것 같습니다!\n",
    "- 세종도 꼭 포함하고 싶을 때 or 결측치 전략 가능할 때 사용하시면 됩니다!\n",
    "- 전국은 제외 된 버전입니다!"
   ]
  },
  {
   "cell_type": "markdown",
   "id": "b3df6b5f",
   "metadata": {},
   "source": [
    "---\n",
    "#### 혹시 필요할까봐 '전국' 추가된 버전 코드 입니다."
   ]
  },
  {
   "cell_type": "code",
   "execution_count": 204,
   "id": "3a17f206",
   "metadata": {},
   "outputs": [
    {
     "name": "stdout",
     "output_type": "stream",
     "text": [
      "        month region power_kwh_industry power_kwh_total  prod_index  temp_avg  \\\n",
      "0  2010-01-01     강원       463,950,773   1,480,180,516       76.306      -5.9   \n",
      "1  2010-01-01     경기     4,018,117,308   8,725,480,264       49.870      -4.5   \n",
      "2  2010-01-01     경남     1,594,246,998   2,922,774,089      118.283       0.3   \n",
      "3  2010-01-01     경북     2,544,221,899   3,717,347,647      126.896      -1.4   \n",
      "4  2010-01-01     광주       228,905,072     712,923,474       75.489       0.5   \n",
      "5  2010-01-01     대구       535,847,540   1,331,471,928       92.576       0.0   \n",
      "6  2010-01-01     대전       256,888,382     826,372,244       78.518      -2.7   \n",
      "7  2010-01-01     부산       703,567,523   1,848,493,050      101.268       3.0   \n",
      "8  2010-01-01     서울       507,859,467   4,398,185,062      113.099      -4.5   \n",
      "9  2010-01-01     세종                NaN             NaN         NaN       NaN   \n",
      "10 2010-01-01     울산     1,899,248,453   2,259,609,470      100.031       1.5   \n",
      "11 2010-01-01     인천     1,119,519,137   2,016,430,191       85.238      -3.2   \n",
      "12 2010-01-01     전국                NaN             NaN      80.695       NaN   \n",
      "13 2010-01-01     전남     1,402,652,316   2,233,685,360       91.579       1.2   \n",
      "14 2010-01-01     전북       871,218,726   1,707,366,334      113.336      -0.9   \n",
      "\n",
      "    precipitation  export_amount  util_rate  \n",
      "0            33.9        82824.0       79.7  \n",
      "1            25.4      5975813.0       79.7  \n",
      "2            23.9      2851941.0       79.7  \n",
      "3            17.2      3221839.0       79.7  \n",
      "4            37.1       799712.0       79.7  \n",
      "5            15.2       352996.0       79.7  \n",
      "6            46.4       245949.0       79.7  \n",
      "7            37.6       765854.0       79.7  \n",
      "8            29.3      3086619.0       79.7  \n",
      "9             NaN            NaN       79.7  \n",
      "10           17.0      4742975.0       79.7  \n",
      "11           29.2      1396432.0       79.7  \n",
      "12            NaN            NaN       79.7  \n",
      "13           35.2      2225979.0       79.7  \n",
      "14           39.0       632429.0       79.7  \n",
      "['강원' '경기' '경남' '경북' '광주' '대구' '대전' '부산' '서울' '세종' '울산' '인천' '전국' '전남'\n",
      " '전북' '제주' '충남' '충북']\n",
      "month                 0.000000\n",
      "region                0.000000\n",
      "power_kwh_industry    0.067308\n",
      "power_kwh_total       0.067308\n",
      "prod_index            0.055556\n",
      "temp_avg              0.095798\n",
      "precipitation         0.095442\n",
      "export_amount         0.064103\n",
      "util_rate             0.000000\n",
      "dtype: float64\n"
     ]
    }
   ],
   "source": [
    "import pandas as pd\n",
    "from functools import reduce\n",
    "\n",
    "# 1. 데이터 불러오기\n",
    "power         = pd.read_excel('filtered_power_data.xlsx')\n",
    "prod_index    = pd.read_excel('trimmed_prod_index_data.xlsx')\n",
    "temp          = pd.read_excel('trimmed_temperature_data.xlsx')\n",
    "precip        = pd.read_excel('trimmed_precipitation_data.xlsx')\n",
    "export_amount = pd.read_excel('trimmed_export_amount_data.xlsx')\n",
    "util_rate     = pd.read_excel('year_month_util_rate.xlsx')\n",
    "\n",
    "# 2. 공통 전처리: month→datetime, region→str\n",
    "dfs = [power, prod_index, temp, precip, export_amount]\n",
    "for i in range(len(dfs)):\n",
    "    dfs[i]['month']  = pd.to_datetime(dfs[i]['month'])\n",
    "    dfs[i]['region'] = dfs[i]['region'].astype(str)\n",
    "\n",
    "# 3. 전력: 산업용+합계 둘 다 남기기\n",
    "power_ind   = power[power['division']=='산업용'][['month','region','power_kwh']].rename(columns={'power_kwh':'power_kwh_industry'})\n",
    "power_total = power[power['division']=='합계'][['month','region','power_kwh']].rename(columns={'power_kwh':'power_kwh_total'})\n",
    "power_merge = pd.merge(power_ind, power_total, on=['month','region'], how='outer')\n",
    "dfs[0] = power_merge\n",
    "\n",
    "# 4. 전체 month×region 조합 생성 (2010~2022, “전국” 포함)\n",
    "all_months = pd.date_range('2010-01-01', '2022-12-01', freq='MS')\n",
    "all_regions = sorted({r for df in dfs for r in df['region'].unique()})\n",
    "full_index = pd.MultiIndex.from_product([all_months, all_regions], names=['month','region'])\n",
    "df_base = pd.DataFrame(index=full_index).reset_index()\n",
    "\n",
    "# 5. left join 으로 NaN 허용 병합\n",
    "df_merged = df_base.copy()\n",
    "for df in dfs:\n",
    "    value_cols = [c for c in df.columns if c not in ['month','region']]\n",
    "    df_merged = pd.merge(df_merged,\n",
    "                         df[['month','region'] + value_cols],\n",
    "                         on=['month','region'],\n",
    "                         how='left')\n",
    "\n",
    "# 6. 전국 단위 보조지표(util_rate)도 month 기준 left join\n",
    "util_rate['month'] = pd.to_datetime(util_rate['month'])\n",
    "util_sub = util_rate[['month','util_rate']]\n",
    "df_merged = pd.merge(df_merged, util_sub, on='month', how='left')\n",
    "\n",
    "# 7. 결과 확인 & 파일 저장 (“+전국” 버전)\n",
    "print(df_merged.head(15))\n",
    "print(df_merged['region'].unique())\n",
    "print(df_merged.isnull().mean())\n",
    "\n",
    "df_merged.to_csv('병합파일/option2_merged_include_sejong_nan_+전국.csv', index=False)"
   ]
  },
  {
   "cell_type": "markdown",
   "id": "ca010be3",
   "metadata": {},
   "source": [
    "### 결측치 없는 버전으로 만들기\n",
    "Why?\n",
    "1. 모델 학습(머신러닝/딥러닝 등)에서 결측치가 있으면 에러가 발생하거나 예측력이 떨어질 수 있어서\n",
    "- 대부분의 ML 알고리즘은 결측치(NaN)를 허용하지 않음\n",
    "- 결측치가 있으면 ValueError: Input contains NaN 이런 에러 자주 남\n",
    "2. 분석 결과(통계량, 상관관계, 시각화 등)에 영향이 없도록\n",
    "- 결측치가 들어가면, 평균, 합계, 상관계수, 시계열 그래프 등 값이 왜곡될 수 있음\n",
    "- 결측치가 있으면 “자료에 구멍이 뚫린 것”처럼 계산이 안 되는 부분이 생김\n",
    "3. EDA(탐색적 데이터 분석)나 가설 검정, 시각화 작업을 간편하게 하려고\n",
    "- 결측치가 없으면, 불필요하게 fillna, interpolate, dropna 등 여러 전처리 코드를 추가로 안 써도 됨"
   ]
  },
  {
   "cell_type": "code",
   "execution_count": null,
   "id": "da8e3c66",
   "metadata": {},
   "outputs": [],
   "source": [
    "# 결측치 없는 버전 코드\n",
    "import pandas as pd\n",
    "\n",
    "# 1. 데이터 불러오기\n",
    "# 전국 데이터 없는 버전입니다.\n",
    "df2 = pd.read_csv('병합파일/option2_merged_include_sejong_nan.csv')"
   ]
  },
  {
   "cell_type": "code",
   "execution_count": 152,
   "id": "84a5d75c",
   "metadata": {},
   "outputs": [],
   "source": [
    "# 결측치가 하나라도 있는 행 전체 삭제\n",
    "df2_clean = df2.dropna()"
   ]
  },
  {
   "cell_type": "code",
   "execution_count": 153,
   "id": "7008b3b1",
   "metadata": {},
   "outputs": [
    {
     "name": "stdout",
     "output_type": "stream",
     "text": [
      "=== 전체 결측치 삭제 후 ===\n",
      "        month region power_kwh_industry power_kwh_total  prod_index  temp_avg  \\\n",
      "0  2010-01-01     강원       463,950,773   1,480,180,516       76.306      -5.9   \n",
      "1  2010-01-01     경기     4,018,117,308   8,725,480,264       49.870      -4.5   \n",
      "2  2010-01-01     경남     1,594,246,998   2,922,774,089      118.283       0.3   \n",
      "3  2010-01-01     경북     2,544,221,899   3,717,347,647      126.896      -1.4   \n",
      "4  2010-01-01     광주       228,905,072     712,923,474       75.489       0.5   \n",
      "\n",
      "   precipitation  export_amount  util_rate  \n",
      "0           33.9        82824.0       79.7  \n",
      "1           25.4      5975813.0       79.7  \n",
      "2           23.9      2851941.0       79.7  \n",
      "3           17.2      3221839.0       79.7  \n",
      "4           37.1       799712.0       79.7  \n"
     ]
    }
   ],
   "source": [
    "print(\"=== 전체 결측치 삭제 후 ===\")\n",
    "print(df2_clean.head())"
   ]
  },
  {
   "cell_type": "code",
   "execution_count": 154,
   "id": "c8ed9674",
   "metadata": {},
   "outputs": [
    {
     "name": "stdout",
     "output_type": "stream",
     "text": [
      "<class 'pandas.core.frame.DataFrame'>\n",
      "Index: 2496 entries, 0 to 2651\n",
      "Data columns (total 9 columns):\n",
      " #   Column              Non-Null Count  Dtype  \n",
      "---  ------              --------------  -----  \n",
      " 0   month               2496 non-null   object \n",
      " 1   region              2496 non-null   object \n",
      " 2   power_kwh_industry  2496 non-null   object \n",
      " 3   power_kwh_total     2496 non-null   object \n",
      " 4   prod_index          2496 non-null   float64\n",
      " 5   temp_avg            2496 non-null   float64\n",
      " 6   precipitation       2496 non-null   float64\n",
      " 7   export_amount       2496 non-null   float64\n",
      " 8   util_rate           2496 non-null   float64\n",
      "dtypes: float64(5), object(4)\n",
      "memory usage: 195.0+ KB\n",
      "None\n"
     ]
    }
   ],
   "source": [
    "print(df2_clean.info())"
   ]
  },
  {
   "cell_type": "code",
   "execution_count": 155,
   "id": "4520d406",
   "metadata": {},
   "outputs": [
    {
     "name": "stdout",
     "output_type": "stream",
     "text": [
      "shape: (2496, 9)\n"
     ]
    }
   ],
   "source": [
    "print(\"shape:\", df2_clean.shape)"
   ]
  },
  {
   "cell_type": "code",
   "execution_count": 157,
   "id": "0d1f6fd3",
   "metadata": {},
   "outputs": [],
   "source": [
    "# 특정 변수(prod_index, power_kwh)만 결측치 삭제 (다른 결측치는 남김)\n",
    "df2_clean2 = df2.dropna(subset=['prod_index', 'power_kwh_industry', 'power_kwh_total'])"
   ]
  },
  {
   "cell_type": "code",
   "execution_count": 158,
   "id": "b764f567",
   "metadata": {},
   "outputs": [
    {
     "name": "stdout",
     "output_type": "stream",
     "text": [
      "\n",
      "=== prod_index, power_kwh 기준 결측치만 삭제 후 ===\n",
      "        month region power_kwh_industry power_kwh_total  prod_index  temp_avg  \\\n",
      "0  2010-01-01     강원       463,950,773   1,480,180,516       76.306      -5.9   \n",
      "1  2010-01-01     경기     4,018,117,308   8,725,480,264       49.870      -4.5   \n",
      "2  2010-01-01     경남     1,594,246,998   2,922,774,089      118.283       0.3   \n",
      "3  2010-01-01     경북     2,544,221,899   3,717,347,647      126.896      -1.4   \n",
      "4  2010-01-01     광주       228,905,072     712,923,474       75.489       0.5   \n",
      "\n",
      "   precipitation  export_amount  util_rate  \n",
      "0           33.9        82824.0       79.7  \n",
      "1           25.4      5975813.0       79.7  \n",
      "2           23.9      2851941.0       79.7  \n",
      "3           17.2      3221839.0       79.7  \n",
      "4           37.1       799712.0       79.7  \n"
     ]
    }
   ],
   "source": [
    "print(\"\\n=== prod_index, power_kwh 기준 결측치만 삭제 후 ===\")\n",
    "print(df2_clean2.head())"
   ]
  },
  {
   "cell_type": "code",
   "execution_count": 159,
   "id": "1bc1e0a8",
   "metadata": {},
   "outputs": [
    {
     "name": "stdout",
     "output_type": "stream",
     "text": [
      "<class 'pandas.core.frame.DataFrame'>\n",
      "Index: 2496 entries, 0 to 2651\n",
      "Data columns (total 9 columns):\n",
      " #   Column              Non-Null Count  Dtype  \n",
      "---  ------              --------------  -----  \n",
      " 0   month               2496 non-null   object \n",
      " 1   region              2496 non-null   object \n",
      " 2   power_kwh_industry  2496 non-null   object \n",
      " 3   power_kwh_total     2496 non-null   object \n",
      " 4   prod_index          2496 non-null   float64\n",
      " 5   temp_avg            2496 non-null   float64\n",
      " 6   precipitation       2496 non-null   float64\n",
      " 7   export_amount       2496 non-null   float64\n",
      " 8   util_rate           2496 non-null   float64\n",
      "dtypes: float64(5), object(4)\n",
      "memory usage: 195.0+ KB\n",
      "None\n"
     ]
    }
   ],
   "source": [
    "print(df2_clean2.info())"
   ]
  },
  {
   "cell_type": "code",
   "execution_count": 160,
   "id": "58c86761",
   "metadata": {},
   "outputs": [
    {
     "name": "stdout",
     "output_type": "stream",
     "text": [
      "shape: (2496, 9)\n"
     ]
    }
   ],
   "source": [
    "print(\"shape:\", df2_clean2.shape)"
   ]
  },
  {
   "cell_type": "code",
   "execution_count": 161,
   "id": "a3ea825f",
   "metadata": {},
   "outputs": [],
   "source": [
    "# 결측치가 하나라도 있는 행 전체 삭제 후 저장\n",
    "df2_clean2.to_csv('병합파일/option2_merged_include_sejong_nan_clean.csv', index=False)"
   ]
  },
  {
   "cell_type": "markdown",
   "id": "dd404eea",
   "metadata": {},
   "source": [
    "---"
   ]
  },
  {
   "cell_type": "markdown",
   "id": "bb172521",
   "metadata": {},
   "source": [
    "### 3. 2015~2022로 전체 기간 통일, 세종 포함\n",
    "- 세종 기준에 맞춰 모든 시도도 2015~2022년만 사용\n",
    "- 모든 지역, 모든 월이 깔끔하게 맞춰짐(동일 기간 분석)"
   ]
  },
  {
   "cell_type": "code",
   "execution_count": 195,
   "id": "32bbd175",
   "metadata": {},
   "outputs": [],
   "source": [
    "import pandas as pd\n",
    "from functools import reduce\n",
    "\n",
    "# 1. 데이터 불러오기\n",
    "power = pd.read_excel('filtered_power_data.xlsx')\n",
    "prod_index = pd.read_excel('trimmed_prod_index_data.xlsx')\n",
    "temp = pd.read_excel('trimmed_temperature_data.xlsx')\n",
    "precip = pd.read_excel('trimmed_precipitation_data.xlsx')\n",
    "export_amount = pd.read_excel('trimmed_export_amount_data.xlsx')\n",
    "util_rate = pd.read_excel('year_month_util_rate.xlsx')\n"
   ]
  },
  {
   "cell_type": "code",
   "execution_count": 196,
   "id": "836ea470",
   "metadata": {},
   "outputs": [],
   "source": [
    "# 공통 전처리 (month: datetime, region: str)\n",
    "for df in [power, prod_index, temp, precip, export_amount]:\n",
    "    df['month'] = pd.to_datetime(df['month'])\n",
    "    df['region'] = df['region'].astype(str)"
   ]
  },
  {
   "cell_type": "code",
   "execution_count": 197,
   "id": "10b07fb4",
   "metadata": {},
   "outputs": [],
   "source": [
    "# power는 산업용/합계 둘 다 남기기\n",
    "power_ind = power[power['division']=='산업용'][['month','region','power_kwh']].rename(columns={'power_kwh':'power_kwh_industry'})\n",
    "power_tot = power[power['division']=='합계'][['month','region','power_kwh']].rename(columns={'power_kwh':'power_kwh_total'})\n",
    "power = pd.merge(power_ind, power_tot, on=['month','region'], how='inner')\n"
   ]
  },
  {
   "cell_type": "code",
   "execution_count": 198,
   "id": "c51b499a",
   "metadata": {},
   "outputs": [],
   "source": [
    "# 2015~2022년으로 잘라내기\n",
    "# 세종 데이터가 2015년부터 존재함.\n",
    "# 기간만 필터링 진행\n",
    "start, end = '2015-01-01', '2022-12-01'\n",
    "for i in range(len(dfs)):\n",
    "    dfs[i]['month'] = pd.to_datetime(dfs[i]['month'])\n",
    "    dfs[i] = dfs[i][(dfs[i]['month'] >= start) & (dfs[i]['month'] <= end)]"
   ]
  },
  {
   "cell_type": "code",
   "execution_count": 199,
   "id": "c6f5fa85",
   "metadata": {},
   "outputs": [],
   "source": [
    "# inner join으로 병합\n",
    "#  MultiIndex 생성 없이도 모든 DF에 공통으로 존재하는 month+region 조합만 남게됨.\n",
    "from functools import reduce\n",
    "df_merged = reduce(\n",
    "    lambda left, right: pd.merge(left, right, on=['month','region'], how='inner'),\n",
    "    dfs\n",
    ")"
   ]
  },
  {
   "cell_type": "code",
   "execution_count": 200,
   "id": "d205a768",
   "metadata": {},
   "outputs": [],
   "source": [
    "# 설비가동률은 월 기준만 left join\n",
    "util_rate['month'] = pd.to_datetime(util_rate['month'])\n",
    "util_rate_sub = util_rate[['month','util_rate']]\n",
    "df_merged = pd.merge(df_merged, util_rate_sub, on='month', how='left')"
   ]
  },
  {
   "cell_type": "code",
   "execution_count": 201,
   "id": "5eb7aebf",
   "metadata": {},
   "outputs": [],
   "source": [
    "# 전국 단위 보조지표(설비가동률)는 월 기준 left join\n",
    "util_rate['month'] = pd.to_datetime(util_rate['month'])\n",
    "util_rate_sub = util_rate[['month', 'util_rate']]\n",
    "df_merged = pd.merge(df_merged, util_rate_sub, on='month', how='left')\n"
   ]
  },
  {
   "cell_type": "code",
   "execution_count": 202,
   "id": "0ffdc5fa",
   "metadata": {},
   "outputs": [
    {
     "name": "stdout",
     "output_type": "stream",
     "text": [
      "        month region division  client_num        power_kwh  \\\n",
      "0  2015-01-01     강원      산업용     12,216      585,592,815    \n",
      "1  2015-01-01     강원       합계    952,308    1,617,029,201    \n",
      "2  2015-01-01     경기      산업용    113,664    4,997,455,612    \n",
      "3  2015-01-01     경기       합계  3,999,638   10,014,789,252    \n",
      "4  2015-01-01     경남      산업용     35,928    1,757,495,823    \n",
      "5  2015-01-01     경남       합계  1,746,563    3,299,662,507    \n",
      "6  2015-01-01     경북      산업용     29,475    2,923,805,965    \n",
      "7  2015-01-01     경북       합계  1,800,409    4,191,097,159    \n",
      "8  2015-01-01     광주      산업용      5,745      266,092,703    \n",
      "9  2015-01-01     광주       합계    518,490      776,667,026    \n",
      "10 2015-01-01     대구      산업용     20,111      602,778,084    \n",
      "11 2015-01-01     대구       합계    872,131    1,417,382,367    \n",
      "12 2015-01-01     대전      산업용      5,183      286,480,493    \n",
      "13 2015-01-01     대전       합계    523,314      875,517,360    \n",
      "14 2015-01-01     부산      산업용     24,513      723,831,996    \n",
      "\n",
      "                 price  mean_price_kwh  prod_index  temp_avg  precipitation  \\\n",
      "0      67,086,006,515            114.6      90.726      -2.4           13.3   \n",
      "1     179,396,303,046            110.9      90.726      -2.4           13.3   \n",
      "2     588,953,163,679            117.9      66.022      -1.1           13.7   \n",
      "3   1,193,510,137,179            119.2      66.022      -1.1           13.7   \n",
      "4     217,359,246,030            123.7     118.906       2.0           29.2   \n",
      "5     383,681,566,885            116.3     118.906       2.0           29.2   \n",
      "6     325,895,639,083            111.5     127.250       0.8           18.7   \n",
      "7     464,521,146,304            110.8     127.250       0.8           18.7   \n",
      "8      32,855,227,216            123.5     106.893       1.7           47.2   \n",
      "9      97,048,935,503            125.0     106.893       1.7           47.2   \n",
      "10     72,363,515,012            120.1     110.428       2.3           24.1   \n",
      "11    175,793,827,688            124.0     110.428       2.3           24.1   \n",
      "12     33,712,806,392            117.7      93.632       0.0           31.5   \n",
      "13    106,848,705,373            122.0      93.632       0.0           31.5   \n",
      "14     90,865,027,627            125.5     114.019       4.7           50.7   \n",
      "\n",
      "    export_amount  util_rate_x  util_rate_y  \n",
      "0          152283         75.0         75.0  \n",
      "1          152283         75.0         75.0  \n",
      "2         9412306         75.0         75.0  \n",
      "3         9412306         75.0         75.0  \n",
      "4         5581400         75.0         75.0  \n",
      "5         5581400         75.0         75.0  \n",
      "6         4025281         75.0         75.0  \n",
      "7         4025281         75.0         75.0  \n",
      "8         1314089         75.0         75.0  \n",
      "9         1314089         75.0         75.0  \n",
      "10         609500         75.0         75.0  \n",
      "11         609500         75.0         75.0  \n",
      "12         408262         75.0         75.0  \n",
      "13         408262         75.0         75.0  \n",
      "14        1281646         75.0         75.0  \n",
      "['강원' '경기' '경남' '경북' '광주' '대구' '대전' '부산' '서울' '울산' '인천' '전남' '전북' '제주'\n",
      " '충남' '충북']\n",
      "month             0.0\n",
      "region            0.0\n",
      "division          0.0\n",
      "client_num        0.0\n",
      "power_kwh         0.0\n",
      "price             0.0\n",
      "mean_price_kwh    0.0\n",
      "prod_index        0.0\n",
      "temp_avg          0.0\n",
      "precipitation     0.0\n",
      "export_amount     0.0\n",
      "util_rate_x       0.0\n",
      "util_rate_y       0.0\n",
      "dtype: float64\n"
     ]
    }
   ],
   "source": [
    "# 확인\n",
    "print(df_merged.head(15))\n",
    "print(df_merged['region'].unique())\n",
    "print(df_merged.isnull().mean())"
   ]
  },
  {
   "cell_type": "code",
   "execution_count": 203,
   "id": "beca32be",
   "metadata": {},
   "outputs": [],
   "source": [
    "# 파일 저장\n",
    "df_merged.to_csv('병합파일/option3_merged_allregion_2015_2022.csv', index=False)"
   ]
  },
  {
   "cell_type": "markdown",
   "id": "5bf5a129",
   "metadata": {},
   "source": [
    "[ 설명 ]\n",
    "- 각 DF에서 month/region 형식·타입 통일 후 2015~2022로 필터\n",
    "- reduce(inner join) 으로 공통 구간·지역만 병합\n",
    "- 전국 단위 보조지표(util_rate)는 month 기준으로만 left join\n",
    "- 지역 간 동시비교·최신 트렌드 분석에 최적화"
   ]
  }
 ],
 "metadata": {
  "kernelspec": {
   "display_name": "Python 3",
   "language": "python",
   "name": "python3"
  },
  "language_info": {
   "codemirror_mode": {
    "name": "ipython",
    "version": 3
   },
   "file_extension": ".py",
   "mimetype": "text/x-python",
   "name": "python",
   "nbconvert_exporter": "python",
   "pygments_lexer": "ipython3",
   "version": "3.11.11"
  }
 },
 "nbformat": 4,
 "nbformat_minor": 5
}
